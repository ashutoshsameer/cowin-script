{
 "cells": [
  {
   "cell_type": "code",
   "execution_count": null,
   "metadata": {},
   "outputs": [],
   "source": [
    "import requests\n",
    "import time\n",
    "from datetime import datetime"
   ]
  },
  {
   "cell_type": "code",
   "execution_count": null,
   "metadata": {},
   "outputs": [],
   "source": [
    "%load_ext jupyternotify"
   ]
  },
  {
   "cell_type": "code",
   "execution_count": null,
   "metadata": {},
   "outputs": [],
   "source": [
    "pip install twilio"
   ]
  },
  {
   "cell_type": "code",
   "execution_count": null,
   "metadata": {},
   "outputs": [],
   "source": [
    "state = 'Rajasthan'\n",
    "district = 'Ajmer'\n",
    "phone_number = '+91XXXXXXXXXX'\n",
    "twilio_trial_number = '+1XXXXXXXXXX'\n",
    "# Find your Account SID and Auth Token at twilio.com/console\n",
    "# and set the environment variables. See http://twil.io/secure\n",
    "account_sid = 'AC2349584a9797dff8a1459b60b25208a7'\n",
    "auth_token = '953d2e3676e71c7dfd7878c7afe355aa'"
   ]
  },
  {
   "cell_type": "code",
   "execution_count": null,
   "metadata": {},
   "outputs": [],
   "source": [
    "import os\n",
    "from twilio.rest import Client\n",
    "client = Client(account_sid, auth_token)"
   ]
  },
  {
   "cell_type": "code",
   "execution_count": null,
   "metadata": {},
   "outputs": [],
   "source": [
    "headers = {'Content-Type': 'application/json',\n",
    "               'origin': 'https://www.cowin.gov.in',\n",
    "              'user-agent': 'Mozilla/5.0 (Macintosh; Intel Mac OS X 10_14_6) AppleWebKit/537.36 (KHTML, like Gecko) Chrome/90.0.4430.93 Safari/537.36'}"
   ]
  },
  {
   "cell_type": "code",
   "execution_count": null,
   "metadata": {},
   "outputs": [],
   "source": [
    "states = requests.get(\"https://cdn-api.co-vin.in/api/v2/admin/location/states\", headers=headers).json()\n",
    "state_id = [a for a in states['states'] if a['state_name'] == state][0]['state_id']\n",
    "districts = requests.get(\"https://cdn-api.co-vin.in/api/v2/admin/location/districts/{}\".format(state_id), headers=headers).json()\n",
    "district_id = [a for a in districts['districts'] if a['district_name'] == district][0]['district_id']"
   ]
  },
  {
   "cell_type": "code",
   "execution_count": null,
   "metadata": {},
   "outputs": [],
   "source": [
    "while True:\n",
    "    try:\n",
    "        api = \"https://cdn-api.co-vin.in/api/v2/appointment/sessions/calendarByDistrict?district_id={}&date={}\".format(district_id, datetime.today().strftime('%d-%m-%Y'))\n",
    "        should_break = False\n",
    "        abc = requests.get(api, headers=headers)\n",
    "        should_continue = True\n",
    "        print(str(abc.status_code) + ' ' + datetime.now().strftime(\"%m/%d/%Y, %H:%M:%S\"))\n",
    "        count = 0\n",
    "        if abc.ok:\n",
    "            center_ob = abc.json()\n",
    "            for center in center_ob['centers']:\n",
    "                for session in center['sessions']:\n",
    "                    if session['min_age_limit'] == 18:\n",
    "                        print(str(session['vaccine'])+ '       ' + str(session['available_capacity']) + ' '+ session['date'])\n",
    "                        if int(session['available_capacity']) > 10:\n",
    "                            %notify -m \"Slot is Open\"\n",
    "                            message = client.messages \\\n",
    "                            .create(\n",
    "                                 body='Slot is Open for [{}] Capacity [{}] Time: [{}] Center[{}] District[{}]'.format(session['vaccine'], session['available_capacity'], datetime.now().strftime(\"%m/%d/%Y, %H:%M:%S\"), center['name'], center['district_name']),\n",
    "                                 from_=twilio_trial_number,\n",
    "                                 to=phone_number\n",
    "                             )\n",
    "                            print(message.sid)\n",
    "                            should_break = True\n",
    "            if should_break:\n",
    "                break\n",
    "    except BaseException as e:\n",
    "        print('Error Occurred', e)\n",
    "    time.sleep(5)"
   ]
  }
 ],
 "metadata": {
  "kernelspec": {
   "display_name": "Python 3",
   "language": "python",
   "name": "python3"
  },
  "language_info": {
   "codemirror_mode": {
    "name": "ipython",
    "version": 3
   },
   "file_extension": ".py",
   "mimetype": "text/x-python",
   "name": "python",
   "nbconvert_exporter": "python",
   "pygments_lexer": "ipython3",
   "version": "3.7.4"
  }
 },
 "nbformat": 4,
 "nbformat_minor": 2
}
