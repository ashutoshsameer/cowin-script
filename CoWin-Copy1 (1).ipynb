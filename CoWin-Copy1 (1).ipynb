{
 "cells": [
  {
   "cell_type": "code",
   "execution_count": null,
   "metadata": {},
   "outputs": [],
   "source": [
    "import requests\n",
    "import time\n",
    "from datetime import datetime"
   ]
  },
  {
   "cell_type": "code",
   "execution_count": null,
   "metadata": {},
   "outputs": [],
   "source": [
    "%load_ext jupyternotify"
   ]
  },
  {
   "cell_type": "code",
   "execution_count": null,
   "metadata": {},
   "outputs": [],
   "source": [
    "pip install twilio"
   ]
  },
  {
   "cell_type": "code",
   "execution_count": null,
   "metadata": {},
   "outputs": [],
   "source": [
    "import os\n",
    "from twilio.rest import Client\n",
    "\n",
    "# Find your Account SID and Auth Token at twilio.com/console\n",
    "# and set the environment variables. See http://twil.io/secure\n",
    "account_sid = 'SID'\n",
    "auth_token = 'AUTH_TOKEN'\n",
    "client = Client(account_sid, auth_token)"
   ]
  },
  {
   "cell_type": "code",
   "execution_count": null,
   "metadata": {},
   "outputs": [],
   "source": [
    "state = 'Rajasthan'\n",
    "district = 'Ajmer'"
   ]
  },
  {
   "cell_type": "code",
   "execution_count": null,
   "metadata": {},
   "outputs": [],
   "source": [
    "headers = {'Content-Type': 'application/json',\n",
    "               'origin': 'https://www.cowin.gov.in',\n",
    "              'user-agent': 'Mozilla/5.0 (Macintosh; Intel Mac OS X 10_14_6) AppleWebKit/537.36 (KHTML, like Gecko) Chrome/90.0.4430.93 Safari/537.36'}"
   ]
  },
  {
   "cell_type": "code",
   "execution_count": null,
   "metadata": {},
   "outputs": [],
   "source": [
    "states = requests.get(\"https://cdn-api.co-vin.in/api/v2/admin/location/states\", headers=headers).json()\n",
    "state_id = [a for a in states['states'] if a['state_name'] == state][0]['state_id']\n",
    "districts = requests.get(\"https://cdn-api.co-vin.in/api/v2/admin/location/districts/{}\".format(state_id), headers=headers).json()\n",
    "district_id = [a for a in districts['districts'] if a['district_name'] == district][0]['district_id']"
   ]
  },
  {
   "cell_type": "code",
   "execution_count": null,
   "metadata": {},
   "outputs": [],
   "source": [
    "# %%notify -m \"Cell Complete\"\n",
    "while True:\n",
    "    api = \"https://cdn-api.co-vin.in/api/v2/appointment/sessions/public/calendarByDistrict?district_id={}&date={}\".format(district_id, datetime.today().strftime('%d-%m-%Y'))\n",
    "    should_break = False\n",
    "    abc = requests.get(api, headers=headers)\n",
    "    should_continue = True\n",
    "    print(str(abc.status_code) + ' ' + datetime.now().strftime(\"%m/%d/%Y, %H:%M:%S\"))\n",
    "    if abc.ok:\n",
    "        center_ob = abc.json()\n",
    "        for center in center_ob['centers']:\n",
    "            for session in center['sessions']:\n",
    "                if session['min_age_limit'] == 18:\n",
    "                    print(str(session['vaccine'])+ '       ' + str(session['available_capacity']) + ' '+ session['date'])\n",
    "                    if session['available_capacity'] > 0:\n",
    "                        %notify -m \"Slot is Open\"\n",
    "                        message = client.messages \\\n",
    "                            .create(\n",
    "                                 body='Slot is Open for [{}] Capacity [{}] Time: [{}]'.format(session['vaccine'], session['available_capacity'], datetime.now().strftime(\"%m/%d/%Y, %H:%M:%S\")),\n",
    "                                 from_='+14156836189',\n",
    "                                 to='+918989898989'\n",
    "                             )\n",
    "                        print(message.sid)\n",
    "                        should_break = True\n",
    "        if should_break:\n",
    "            break\n",
    "        time.sleep(5)\n",
    "    else:\n",
    "        for i in range(10):\n",
    "            abc = requests.get(api, headers=headers)\n",
    "            print(abc)\n",
    "            if abc.ok:\n",
    "                should_continue = True\n",
    "                break\n",
    "            else:\n",
    "                should_continue = False\n",
    "            time.sleep(5)\n",
    "        if not should_continue:\n",
    "            %notify -m \"Response is 401\"\n",
    "            break"
   ]
  },
  {
   "cell_type": "code",
   "execution_count": null,
   "metadata": {},
   "outputs": [],
   "source": [
    "'Slot is Open for {} Time: {}'.format('blabla', datetime.now().strftime(\"%m/%d/%Y, %H:%M:%S\"))"
   ]
  },
  {
   "cell_type": "code",
   "execution_count": null,
   "metadata": {},
   "outputs": [],
   "source": [
    "pip install twilio"
   ]
  },
  {
   "cell_type": "code",
   "execution_count": null,
   "metadata": {},
   "outputs": [],
   "source": [
    "\n"
   ]
  },
  {
   "cell_type": "code",
   "execution_count": null,
   "metadata": {},
   "outputs": [],
   "source": []
  }
 ],
 "metadata": {
  "kernelspec": {
   "display_name": "Python 3",
   "language": "python",
   "name": "python3"
  },
  "language_info": {
   "codemirror_mode": {
    "name": "ipython",
    "version": 3
   },
   "file_extension": ".py",
   "mimetype": "text/x-python",
   "name": "python",
   "nbconvert_exporter": "python",
   "pygments_lexer": "ipython3",
   "version": "3.7.4"
  }
 },
 "nbformat": 4,
 "nbformat_minor": 2
}
