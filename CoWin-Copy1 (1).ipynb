{
 "cells": [
  {
   "cell_type": "code",
   "execution_count": null,
   "metadata": {},
   "outputs": [],
   "source": [
    "import requests\n",
    "import time\n",
    "from datetime import datetime"
   ]
  },
  {
   "cell_type": "code",
   "execution_count": null,
   "metadata": {},
   "outputs": [],
   "source": [
    "pip install jupyternotify"
   ]
  },
  {
   "cell_type": "code",
   "execution_count": null,
   "metadata": {},
   "outputs": [],
   "source": [
    "%load_ext jupyternotify"
   ]
  },
  {
   "cell_type": "code",
   "execution_count": null,
   "metadata": {},
   "outputs": [],
   "source": [
    "pip install twilio"
   ]
  },
  {
   "cell_type": "code",
   "execution_count": null,
   "metadata": {},
   "outputs": [],
   "source": [
    "import os\n",
    "from twilio.rest import Client\n",
    "\n",
    "# Find your Account SID and Auth Token at twilio.com/console\n",
    "# and set the environment variables. See http://twil.io/secure\n",
    "account_sid = 'SID_HERE'\n",
    "auth_token = 'TOKEN_HERE'\n",
    "client = Client(account_sid, auth_token)"
   ]
  },
  {
   "cell_type": "code",
   "execution_count": null,
   "metadata": {},
   "outputs": [],
   "source": [
    "api_token = 'eyJhbGciOiJIUzI1NiIsInR5cCI6IkpXVCJ9.eyJ1c2VyX25hbWUiOiJiZGZjYzRjYy0xN2FkLTRiODMtYTg0Ni1hYmQ0YTE3OGFlNzAiLCJ1c2VyX2lkIjoiYmRmY2M0Y2MtMTdhZC00YjgzLWE4NDYtYWJkNGExNzhhZTcwIiwidXNlcl90eXBlIjoiQkVORUZJQ0lBUlkiLCJtb2JpbGVfbnVtYmVyIjo5ODAwNjc5MjIyLCJiZW5lZmljaWFyeV9yZWZlcmVuY2VfaWQiOjg2MjQ0NzA1MjY2MzkwLCJzZWNyZXRfa2V5IjoiYjVjYWIxNjctNzk3Ny00ZGYxLTgwMjctYTYzYWExNDRmMDRlIiwidWEiOiJNb3ppbGxhLzUuMCAoTWFjaW50b3NoOyBJbnRlbCBNYWMgT1MgWCAxMF8xNF82KSBBcHBsZVdlYktpdC81MzcuMzYgKEtIVE1MLCBsaWtlIEdlY2tvKSBDaHJvbWUvOTAuMC40NDMwLjkzIFNhZmFyaS81MzcuMzYiLCJkYXRlX21vZGlmaWVkIjoiMjAyMS0wNS0xM1QxMjo1NDowNy40MDJaIiwiaWF0IjoxNjIwOTEwNDQ3LCJleHAiOjE2MjA5MTEzNDd9.1097nXKT0UH5wK4QNZH59Y5-bVjDJRgUzCTADVH0yCo'"
   ]
  },
  {
   "cell_type": "code",
   "execution_count": null,
   "metadata": {},
   "outputs": [],
   "source": [
    "# %%notify -m \"Cell Complete\"\n",
    "while True:\n",
    "    headers = {'Content-Type': 'application/json',\n",
    "               'Authorization': 'Bearer {0}'.format(api_token),\n",
    "               'origin': 'https://selfregistration.cowin.gov.in',\n",
    "              'user-agent': 'Mozilla/5.0 (Macintosh; Intel Mac OS X 10_14_6) AppleWebKit/537.36 (KHTML, like Gecko) Chrome/90.0.4430.93 Safari/537.36'}\n",
    "    api = \"https://cdn-api.co-vin.in/api/v2/appointment/sessions/calendarByDistrict?district_id=330&date={}\".format(datetime.today().strftime('%d-%m-%Y'))\n",
    "    should_break = False\n",
    "    abc = requests.get(api, headers=headers)\n",
    "    should_continue = True\n",
    "    print(str(abc.status_code) + ' ' + datetime.now().strftime(\"%m/%d/%Y, %H:%M:%S\"))\n",
    "    if abc.ok:\n",
    "        center_ob = abc.json()\n",
    "        for center in center_ob['centers']:\n",
    "            for session in center['sessions']:\n",
    "                if session['min_age_limit'] == 18:\n",
    "                    print(str(session['vaccine'])+ '       ' + str(session['available_capacity']) + ' '+ session['date'])\n",
    "                    if session['available_capacity'] > 0:\n",
    "                        %notify -m \"Slot is Open\"\n",
    "                        if session['vaccine'] == 'COVISHIELD' and session['available_capacity'] > 1:\n",
    "                            message = client.messages \\\n",
    "                                .create(\n",
    "                                     body='Slot is Open for COVISHIELD Time: {}'.format(datetime.now().strftime(\"%m/%d/%Y, %H:%M:%S\")),\n",
    "                                     from_='+14156838789',\n",
    "                                     to='+9112345678'\n",
    "                                 )\n",
    "                            print(message.sid)\n",
    "                            %notify -m \"Slot is Open for COVISHIELD\"\n",
    "                            should_break = True\n",
    "        if should_break:\n",
    "            break\n",
    "        time.sleep(5)\n",
    "    else:\n",
    "        for i in range(10):\n",
    "            abc = requests.get(api, headers=headers)\n",
    "            print(abc)\n",
    "            if abc.ok:\n",
    "                should_continue = True\n",
    "                break\n",
    "            else:\n",
    "                should_continue = False\n",
    "            time.sleep(5)\n",
    "        if not should_continue:\n",
    "            %notify -m \"Response is 401\"\n",
    "            break"
   ]
  },
  {
   "cell_type": "code",
   "execution_count": null,
   "metadata": {},
   "outputs": [],
   "source": [
    "'Slot is Open for COVISHIELD Time: {}'.format(datetime.now().strftime(\"%m/%d/%Y, %H:%M:%S\"))"
   ]
  },
  {
   "cell_type": "code",
   "execution_count": null,
   "metadata": {},
   "outputs": [],
   "source": [
    "pip install twilio"
   ]
  },
  {
   "cell_type": "code",
   "execution_count": null,
   "metadata": {},
   "outputs": [],
   "source": [
    "\n"
   ]
  },
  {
   "cell_type": "code",
   "execution_count": null,
   "metadata": {},
   "outputs": [],
   "source": []
  }
 ],
 "metadata": {
  "kernelspec": {
   "display_name": "Python 3",
   "language": "python",
   "name": "python3"
  },
  "language_info": {
   "codemirror_mode": {
    "name": "ipython",
    "version": 3
   },
   "file_extension": ".py",
   "mimetype": "text/x-python",
   "name": "python",
   "nbconvert_exporter": "python",
   "pygments_lexer": "ipython3",
   "version": "3.7.4"
  }
 },
 "nbformat": 4,
 "nbformat_minor": 2
}
